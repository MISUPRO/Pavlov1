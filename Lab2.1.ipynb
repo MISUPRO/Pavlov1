{
 "cells": [
  {
   "cell_type": "code",
   "execution_count": 1,
   "id": "6dbc7563-ae16-4ebe-bb6c-9305d53993bc",
   "metadata": {
    "tags": []
   },
   "outputs": [],
   "source": [
    "from deeppavlov import build_model\n"
   ]
  },
  {
   "cell_type": "code",
   "execution_count": 2,
   "id": "a2cc4e67-01f8-4d45-b1b0-bb29e6ae979f",
   "metadata": {
    "tags": []
   },
   "outputs": [],
   "source": [
    "from natasha import (\n",
    "    Segmenter,\n",
    "    MorphVocab,\n",
    "    \n",
    "    NewsEmbedding,\n",
    "    NewsMorphTagger,\n",
    "    NewsSyntaxParser,\n",
    "    NewsNERTagger,\n",
    "    \n",
    "    PER,\n",
    "    NamesExtractor,\n",
    "\n",
    "    Doc\n",
    ")"
   ]
  },
  {
   "cell_type": "code",
   "execution_count": 3,
   "id": "45226f07-f6ea-4278-ae6e-7c4ac570bfe9",
   "metadata": {
    "tags": []
   },
   "outputs": [
    {
     "name": "stderr",
     "output_type": "stream",
     "text": [
      "2023-11-27 19:33:37.354 INFO in 'deeppavlov.download'['download'] at line 138: Skipped http://files.deeppavlov.ai/v1/ner/ner_ontonotes_bert_torch_crf.tar.gz download because of matching hashes\n",
      "C:\\Users\\Kirill\\anaconda3\\envs\\MISUPRO\\lib\\site-packages\\tqdm\\auto.py:22: TqdmWarning: IProgress not found. Please update jupyter and ipywidgets. See https://ipywidgets.readthedocs.io/en/stable/user_install.html\n",
      "  from .autonotebook import tqdm as notebook_tqdm\n",
      "Some weights of the model checkpoint at bert-base-cased were not used when initializing BertForTokenClassification: ['cls.predictions.transform.dense.bias', 'cls.predictions.transform.dense.weight', 'cls.seq_relationship.bias', 'cls.predictions.transform.LayerNorm.bias', 'cls.predictions.bias', 'cls.predictions.transform.LayerNorm.weight', 'cls.seq_relationship.weight']\n",
      "- This IS expected if you are initializing BertForTokenClassification from the checkpoint of a model trained on another task or with another architecture (e.g. initializing a BertForSequenceClassification model from a BertForPreTraining model).\n",
      "- This IS NOT expected if you are initializing BertForTokenClassification from the checkpoint of a model that you expect to be exactly identical (initializing a BertForSequenceClassification model from a BertForSequenceClassification model).\n",
      "Some weights of BertForTokenClassification were not initialized from the model checkpoint at bert-base-cased and are newly initialized: ['classifier.weight', 'classifier.bias']\n",
      "You should probably TRAIN this model on a down-stream task to be able to use it for predictions and inference.\n",
      "2023-11-27 19:33:40.808 WARNING in 'deeppavlov.core.models.torch_model'['torch_model'] at line 96: Unable to place component TorchTransformersSequenceTagger on GPU, since no CUDA GPUs are available. Using CPU.\n"
     ]
    }
   ],
   "source": [
    "model = build_model(\"entity_detection_en\", download=True)"
   ]
  },
  {
   "cell_type": "code",
   "execution_count": 4,
   "id": "ec205cd4-60ea-4b1f-bd5c-bf21a72c17b6",
   "metadata": {
    "tags": []
   },
   "outputs": [],
   "source": [
    "text='Alexander Sergeevich Pushkin was born on June 6, 1799 in Moscow and came from an old untitled noble family.'"
   ]
  },
  {
   "cell_type": "code",
   "execution_count": 5,
   "id": "61c63773-097b-47ee-85d1-f0b0f4fb1f49",
   "metadata": {
    "tags": []
   },
   "outputs": [
    {
     "name": "stderr",
     "output_type": "stream",
     "text": [
      "C:\\Users\\Kirill\\anaconda3\\envs\\MISUPRO\\lib\\site-packages\\torchcrf\\__init__.py:305: UserWarning: where received a uint8 condition tensor. This behavior is deprecated and will be removed in a future version of PyTorch. Use a boolean condition instead. (Triggered internally at ..\\aten\\src\\ATen\\native\\TensorCompare.cpp:413.)\n",
      "  score = torch.where(mask[i].unsqueeze(1), next_score, score)\n"
     ]
    },
    {
     "data": {
      "text/plain": [
       "[[['alexander sergeevich pushkin', 'june 6 , 1799', 'moscow']],\n",
       " [[(0, 28), (41, 53), (57, 63)]],\n",
       " [[[0, 1, 2], [6, 7, 8, 9], [11]]],\n",
       " [['PERSON', 'DATE', 'GPE']],\n",
       " [[(0, 107)]],\n",
       " [['Alexander Sergeevich Pushkin was born on June 6, 1799 in Moscow and came from an old untitled noble family.']],\n",
       " [[0.9978, 0.9912, 0.9969]]]"
      ]
     },
     "execution_count": 5,
     "metadata": {},
     "output_type": "execute_result"
    }
   ],
   "source": [
    "model([text])"
   ]
  },
  {
   "cell_type": "code",
   "execution_count": 6,
   "id": "dc144d96-2852-4183-88fa-b5f305287fea",
   "metadata": {
    "tags": []
   },
   "outputs": [],
   "source": [
    "emb = NewsEmbedding()\n",
    "morph_tagger = NewsMorphTagger(emb)"
   ]
  },
  {
   "cell_type": "code",
   "execution_count": 7,
   "id": "42aa8546-cbc5-4514-8653-094d3a18b2d0",
   "metadata": {
    "tags": []
   },
   "outputs": [
    {
     "name": "stdout",
     "output_type": "stream",
     "text": [
      "MorphMarkup(tokens=[MorphToken(text='[', pos='PUNCT', feats={}), MorphToken(text='[', pos='PUNCT', feats={}), MorphToken(text=\"'\", pos='PUNCT', feats={}), MorphToken(text='a', pos='X', feats={'Foreign': 'Yes'}), MorphToken(text='l', pos='X', feats={'Foreign': 'Yes'}), MorphToken(text='e', pos='X', feats={'Foreign': 'Yes'}), MorphToken(text='x', pos='X', feats={'Foreign': 'Yes'}), MorphToken(text='a', pos='X', feats={'Foreign': 'Yes'}), MorphToken(text='n', pos='X', feats={'Foreign': 'Yes'}), MorphToken(text='d', pos='X', feats={'Foreign': 'Yes'}), MorphToken(text='e', pos='X', feats={'Foreign': 'Yes'}), MorphToken(text='r', pos='X', feats={'Foreign': 'Yes'}), MorphToken(text=' ', pos='PUNCT', feats={}), MorphToken(text='s', pos='X', feats={'Foreign': 'Yes'}), MorphToken(text='e', pos='X', feats={'Foreign': 'Yes'}), MorphToken(text='r', pos='X', feats={'Foreign': 'Yes'}), MorphToken(text='g', pos='X', feats={'Foreign': 'Yes'}), MorphToken(text='e', pos='X', feats={'Foreign': 'Yes'}), MorphToken(text='e', pos='X', feats={'Foreign': 'Yes'}), MorphToken(text='v', pos='X', feats={'Foreign': 'Yes'}), MorphToken(text='i', pos='X', feats={'Foreign': 'Yes'}), MorphToken(text='c', pos='X', feats={'Foreign': 'Yes'}), MorphToken(text='h', pos='X', feats={'Foreign': 'Yes'}), MorphToken(text=' ', pos='PUNCT', feats={}), MorphToken(text='p', pos='X', feats={'Foreign': 'Yes'}), MorphToken(text='u', pos='X', feats={'Foreign': 'Yes'}), MorphToken(text='s', pos='X', feats={'Foreign': 'Yes'}), MorphToken(text='h', pos='X', feats={'Foreign': 'Yes'}), MorphToken(text='k', pos='X', feats={'Foreign': 'Yes'}), MorphToken(text='i', pos='X', feats={'Foreign': 'Yes'}), MorphToken(text='n', pos='X', feats={'Foreign': 'Yes'}), MorphToken(text=\"'\", pos='PUNCT', feats={}), MorphToken(text=',', pos='PUNCT', feats={}), MorphToken(text=' ', pos='X', feats={'Foreign': 'Yes'}), MorphToken(text=\"'\", pos='PUNCT', feats={}), MorphToken(text='j', pos='X', feats={'Foreign': 'Yes'}), MorphToken(text='u', pos='X', feats={'Foreign': 'Yes'}), MorphToken(text='n', pos='X', feats={'Foreign': 'Yes'}), MorphToken(text='e', pos='X', feats={'Foreign': 'Yes'}), MorphToken(text=' ', pos='PUNCT', feats={}), MorphToken(text='6', pos='NUM', feats={}), MorphToken(text=' ', pos='SYM', feats={}), MorphToken(text=',', pos='PUNCT', feats={}), MorphToken(text=' ', pos='PUNCT', feats={}), MorphToken(text='1', pos='NUM', feats={}), MorphToken(text='7', pos='NUM', feats={}), MorphToken(text='9', pos='NUM', feats={}), MorphToken(text='9', pos='NUM', feats={}), MorphToken(text=\"'\", pos='PUNCT', feats={}), MorphToken(text=',', pos='PUNCT', feats={}), MorphToken(text=' ', pos='X', feats={'Foreign': 'Yes'}), MorphToken(text=\"'\", pos='PUNCT', feats={}), MorphToken(text='m', pos='X', feats={'Foreign': 'Yes'}), MorphToken(text='o', pos='X', feats={'Foreign': 'Yes'}), MorphToken(text='s', pos='X', feats={'Foreign': 'Yes'}), MorphToken(text='c', pos='X', feats={'Foreign': 'Yes'}), MorphToken(text='o', pos='X', feats={'Foreign': 'Yes'}), MorphToken(text='w', pos='X', feats={'Foreign': 'Yes'}), MorphToken(text=\"'\", pos='PUNCT', feats={}), MorphToken(text=']', pos='PUNCT', feats={}), MorphToken(text=']', pos='PUNCT', feats={}), MorphToken(text=' ', pos='X', feats={'Foreign': 'Yes'}), MorphToken(text='[', pos='PUNCT', feats={}), MorphToken(text='[', pos='PUNCT', feats={}), MorphToken(text='(', pos='PUNCT', feats={}), MorphToken(text='0', pos='NUM', feats={}), MorphToken(text=',', pos='PUNCT', feats={}), MorphToken(text=' ', pos='PUNCT', feats={}), MorphToken(text='2', pos='NUM', feats={}), MorphToken(text='8', pos='NUM', feats={}), MorphToken(text=')', pos='PUNCT', feats={}), MorphToken(text=',', pos='PUNCT', feats={}), MorphToken(text=' ', pos='X', feats={'Foreign': 'Yes'}), MorphToken(text='(', pos='PUNCT', feats={}), MorphToken(text='4', pos='NUM', feats={}), MorphToken(text='1', pos='NUM', feats={}), MorphToken(text=',', pos='PUNCT', feats={}), MorphToken(text=' ', pos='PUNCT', feats={}), MorphToken(text='5', pos='NUM', feats={}), MorphToken(text='3', pos='NUM', feats={}), MorphToken(text=')', pos='PUNCT', feats={}), MorphToken(text=',', pos='PUNCT', feats={}), MorphToken(text=' ', pos='X', feats={'Foreign': 'Yes'}), MorphToken(text='(', pos='PUNCT', feats={}), MorphToken(text='5', pos='NUM', feats={}), MorphToken(text='7', pos='NUM', feats={}), MorphToken(text=',', pos='PUNCT', feats={}), MorphToken(text=' ', pos='PUNCT', feats={}), MorphToken(text='6', pos='NUM', feats={}), MorphToken(text='3', pos='NUM', feats={}), MorphToken(text=')', pos='PUNCT', feats={}), MorphToken(text=']', pos='PUNCT', feats={}), MorphToken(text=']', pos='PUNCT', feats={}), MorphToken(text=' ', pos='X', feats={'Foreign': 'Yes'}), MorphToken(text='[', pos='PUNCT', feats={}), MorphToken(text='[', pos='PUNCT', feats={}), MorphToken(text='[', pos='PUNCT', feats={}), MorphToken(text='0', pos='NUM', feats={}), MorphToken(text=',', pos='PUNCT', feats={}), MorphToken(text=' ', pos='PUNCT', feats={}), MorphToken(text='1', pos='NUM', feats={}), MorphToken(text=',', pos='PUNCT', feats={}), MorphToken(text=' ', pos='PUNCT', feats={}), MorphToken(text='2', pos='NUM', feats={}), MorphToken(text=']', pos='PUNCT', feats={}), MorphToken(text=',', pos='PUNCT', feats={}), MorphToken(text=' ', pos='X', feats={'Foreign': 'Yes'}), MorphToken(text='[', pos='PUNCT', feats={}), MorphToken(text='6', pos='NUM', feats={}), MorphToken(text=',', pos='PUNCT', feats={}), MorphToken(text=' ', pos='PUNCT', feats={}), MorphToken(text='7', pos='NUM', feats={}), MorphToken(text=',', pos='PUNCT', feats={}), MorphToken(text=' ', pos='PUNCT', feats={}), MorphToken(text='8', pos='NUM', feats={}), MorphToken(text=',', pos='PUNCT', feats={}), MorphToken(text=' ', pos='PUNCT', feats={}), MorphToken(text='9', pos='NUM', feats={}), MorphToken(text=']', pos='PUNCT', feats={}), MorphToken(text=',', pos='PUNCT', feats={}), MorphToken(text=' ', pos='X', feats={'Foreign': 'Yes'}), MorphToken(text='[', pos='PUNCT', feats={}), MorphToken(text='1', pos='NUM', feats={}), MorphToken(text='1', pos='NUM', feats={}), MorphToken(text=']', pos='PUNCT', feats={}), MorphToken(text=']', pos='PUNCT', feats={}), MorphToken(text=']', pos='PUNCT', feats={}), MorphToken(text=' ', pos='X', feats={'Foreign': 'Yes'}), MorphToken(text='[', pos='PUNCT', feats={}), MorphToken(text='[', pos='PUNCT', feats={}), MorphToken(text=\"'\", pos='PUNCT', feats={}), MorphToken(text='P', pos='X', feats={'Foreign': 'Yes'}), MorphToken(text='E', pos='X', feats={'Foreign': 'Yes'}), MorphToken(text='R', pos='X', feats={'Foreign': 'Yes'}), MorphToken(text='S', pos='X', feats={'Foreign': 'Yes'}), MorphToken(text='O', pos='PROPN', feats={'Foreign': 'Yes'}), MorphToken(text='N', pos='NOUN', feats={}), MorphToken(text=\"'\", pos='PUNCT', feats={}), MorphToken(text=',', pos='PUNCT', feats={}), MorphToken(text=' ', pos='X', feats={'Foreign': 'Yes'}), MorphToken(text=\"'\", pos='PUNCT', feats={}), MorphToken(text='D', pos='X', feats={'Foreign': 'Yes'}), MorphToken(text='A', pos='X', feats={'Foreign': 'Yes'}), MorphToken(text='T', pos='PROPN', feats={'Foreign': 'Yes'}), MorphToken(text='E', pos='X', feats={'Foreign': 'Yes'}), MorphToken(text=\"'\", pos='PUNCT', feats={}), MorphToken(text=',', pos='PUNCT', feats={}), MorphToken(text=' ', pos='X', feats={'Foreign': 'Yes'}), MorphToken(text=\"'\", pos='PUNCT', feats={}), MorphToken(text='G', pos='X', feats={'Foreign': 'Yes'}), MorphToken(text='P', pos='X', feats={'Foreign': 'Yes'}), MorphToken(text='E', pos='X', feats={'Foreign': 'Yes'}), MorphToken(text=\"'\", pos='PUNCT', feats={}), MorphToken(text=']', pos='PUNCT', feats={}), MorphToken(text=']', pos='PUNCT', feats={}), MorphToken(text=' ', pos='X', feats={'Foreign': 'Yes'}), MorphToken(text='[', pos='PUNCT', feats={}), MorphToken(text='[', pos='PUNCT', feats={}), MorphToken(text='(', pos='PUNCT', feats={}), MorphToken(text='0', pos='NUM', feats={}), MorphToken(text=',', pos='PUNCT', feats={}), MorphToken(text=' ', pos='PUNCT', feats={}), MorphToken(text='1', pos='NUM', feats={}), MorphToken(text='0', pos='NUM', feats={}), MorphToken(text='7', pos='NUM', feats={}), MorphToken(text=')', pos='PUNCT', feats={}), MorphToken(text=']', pos='PUNCT', feats={}), MorphToken(text=']', pos='PUNCT', feats={}), MorphToken(text=' ', pos='X', feats={'Foreign': 'Yes'}), MorphToken(text='[', pos='PUNCT', feats={}), MorphToken(text='[', pos='PUNCT', feats={}), MorphToken(text=\"'\", pos='PUNCT', feats={}), MorphToken(text='A', pos='X', feats={'Foreign': 'Yes'}), MorphToken(text='l', pos='X', feats={'Foreign': 'Yes'}), MorphToken(text='e', pos='X', feats={'Foreign': 'Yes'}), MorphToken(text='x', pos='X', feats={'Foreign': 'Yes'}), MorphToken(text='a', pos='X', feats={'Foreign': 'Yes'}), MorphToken(text='n', pos='X', feats={'Foreign': 'Yes'}), MorphToken(text='d', pos='X', feats={'Foreign': 'Yes'}), MorphToken(text='e', pos='X', feats={'Foreign': 'Yes'}), MorphToken(text='r', pos='X', feats={'Foreign': 'Yes'}), MorphToken(text=' ', pos='PUNCT', feats={}), MorphToken(text='S', pos='X', feats={'Foreign': 'Yes'}), MorphToken(text='e', pos='X', feats={'Foreign': 'Yes'}), MorphToken(text='r', pos='X', feats={'Foreign': 'Yes'}), MorphToken(text='g', pos='X', feats={'Foreign': 'Yes'}), MorphToken(text='e', pos='X', feats={'Foreign': 'Yes'}), MorphToken(text='e', pos='X', feats={'Foreign': 'Yes'}), MorphToken(text='v', pos='X', feats={'Foreign': 'Yes'}), MorphToken(text='i', pos='X', feats={'Foreign': 'Yes'}), MorphToken(text='c', pos='X', feats={'Foreign': 'Yes'}), MorphToken(text='h', pos='X', feats={'Foreign': 'Yes'}), MorphToken(text=' ', pos='PUNCT', feats={}), MorphToken(text='P', pos='X', feats={'Foreign': 'Yes'}), MorphToken(text='u', pos='X', feats={'Foreign': 'Yes'}), MorphToken(text='s', pos='X', feats={'Foreign': 'Yes'}), MorphToken(text='h', pos='X', feats={'Foreign': 'Yes'}), MorphToken(text='k', pos='X', feats={'Foreign': 'Yes'}), MorphToken(text='i', pos='X', feats={'Foreign': 'Yes'}), MorphToken(text='n', pos='X', feats={'Foreign': 'Yes'}), MorphToken(text=' ', pos='PUNCT', feats={}), MorphToken(text='w', pos='X', feats={'Foreign': 'Yes'}), MorphToken(text='a', pos='X', feats={'Foreign': 'Yes'}), MorphToken(text='s', pos='X', feats={'Foreign': 'Yes'}), MorphToken(text=' ', pos='PUNCT', feats={}), MorphToken(text='b', pos='X', feats={'Foreign': 'Yes'}), MorphToken(text='o', pos='X', feats={'Foreign': 'Yes'}), MorphToken(text='r', pos='X', feats={'Foreign': 'Yes'}), MorphToken(text='n', pos='X', feats={'Foreign': 'Yes'}), MorphToken(text=' ', pos='PUNCT', feats={}), MorphToken(text='o', pos='X', feats={'Foreign': 'Yes'}), MorphToken(text='n', pos='X', feats={'Foreign': 'Yes'}), MorphToken(text=' ', pos='PUNCT', feats={}), MorphToken(text='J', pos='X', feats={'Foreign': 'Yes'}), MorphToken(text='u', pos='X', feats={'Foreign': 'Yes'}), MorphToken(text='n', pos='X', feats={'Foreign': 'Yes'}), MorphToken(text='e', pos='X', feats={'Foreign': 'Yes'}), MorphToken(text=' ', pos='PUNCT', feats={}), MorphToken(text='6', pos='NUM', feats={}), MorphToken(text=',', pos='PUNCT', feats={}), MorphToken(text=' ', pos='PUNCT', feats={}), MorphToken(text='1', pos='NUM', feats={}), MorphToken(text='7', pos='NUM', feats={}), MorphToken(text='9', pos='NUM', feats={}), MorphToken(text='9', pos='NUM', feats={}), MorphToken(text=' ', pos='PUNCT', feats={}), MorphToken(text='i', pos='X', feats={'Foreign': 'Yes'}), MorphToken(text='n', pos='X', feats={'Foreign': 'Yes'}), MorphToken(text=' ', pos='PUNCT', feats={}), MorphToken(text='M', pos='X', feats={'Foreign': 'Yes'}), MorphToken(text='o', pos='X', feats={'Foreign': 'Yes'}), MorphToken(text='s', pos='X', feats={'Foreign': 'Yes'}), MorphToken(text='c', pos='X', feats={'Foreign': 'Yes'}), MorphToken(text='o', pos='X', feats={'Foreign': 'Yes'}), MorphToken(text='w', pos='X', feats={'Foreign': 'Yes'}), MorphToken(text=' ', pos='PUNCT', feats={}), MorphToken(text='a', pos='X', feats={'Foreign': 'Yes'}), MorphToken(text='n', pos='X', feats={'Foreign': 'Yes'}), MorphToken(text='d', pos='X', feats={'Foreign': 'Yes'}), MorphToken(text=' ', pos='PUNCT', feats={}), MorphToken(text='c', pos='X', feats={'Foreign': 'Yes'}), MorphToken(text='a', pos='X', feats={'Foreign': 'Yes'}), MorphToken(text='m', pos='X', feats={'Foreign': 'Yes'}), MorphToken(text='e', pos='X', feats={'Foreign': 'Yes'}), MorphToken(text=' ', pos='PUNCT', feats={}), MorphToken(text='f', pos='X', feats={'Foreign': 'Yes'}), MorphToken(text='r', pos='X', feats={'Foreign': 'Yes'}), MorphToken(text='o', pos='X', feats={'Foreign': 'Yes'}), MorphToken(text='m', pos='X', feats={'Foreign': 'Yes'}), MorphToken(text=' ', pos='PUNCT', feats={}), MorphToken(text='a', pos='X', feats={'Foreign': 'Yes'}), MorphToken(text='n', pos='X', feats={'Foreign': 'Yes'}), MorphToken(text=' ', pos='PUNCT', feats={}), MorphToken(text='o', pos='X', feats={'Foreign': 'Yes'}), MorphToken(text='l', pos='X', feats={'Foreign': 'Yes'}), MorphToken(text='d', pos='X', feats={'Foreign': 'Yes'}), MorphToken(text=' ', pos='PUNCT', feats={}), MorphToken(text='u', pos='X', feats={'Foreign': 'Yes'}), MorphToken(text='n', pos='X', feats={'Foreign': 'Yes'}), MorphToken(text='t', pos='X', feats={'Foreign': 'Yes'}), MorphToken(text='i', pos='X', feats={'Foreign': 'Yes'}), MorphToken(text='t', pos='X', feats={'Foreign': 'Yes'}), MorphToken(text='l', pos='X', feats={'Foreign': 'Yes'}), MorphToken(text='e', pos='X', feats={'Foreign': 'Yes'}), MorphToken(text='d', pos='X', feats={'Foreign': 'Yes'}), MorphToken(text=' ', pos='PUNCT', feats={}), MorphToken(text='n', pos='X', feats={'Foreign': 'Yes'}), MorphToken(text='o', pos='X', feats={'Foreign': 'Yes'}), MorphToken(text='b', pos='X', feats={'Foreign': 'Yes'}), MorphToken(text='l', pos='X', feats={'Foreign': 'Yes'}), MorphToken(text='e', pos='X', feats={'Foreign': 'Yes'}), MorphToken(text=' ', pos='PUNCT', feats={}), MorphToken(text='f', pos='X', feats={'Foreign': 'Yes'}), MorphToken(text='a', pos='X', feats={'Foreign': 'Yes'}), MorphToken(text='m', pos='X', feats={'Foreign': 'Yes'}), MorphToken(text='i', pos='X', feats={'Foreign': 'Yes'}), MorphToken(text='l', pos='X', feats={'Foreign': 'Yes'}), MorphToken(text='y', pos='X', feats={'Foreign': 'Yes'}), MorphToken(text='.', pos='PUNCT', feats={}), MorphToken(text=\"'\", pos='PUNCT', feats={}), MorphToken(text=']', pos='PUNCT', feats={}), MorphToken(text=']', pos='PUNCT', feats={}), MorphToken(text=' ', pos='X', feats={'Foreign': 'Yes'}), MorphToken(text='[', pos='PUNCT', feats={}), MorphToken(text='[', pos='PUNCT', feats={}), MorphToken(text='0', pos='NUM', feats={}), MorphToken(text='.', pos='PUNCT', feats={}), MorphToken(text='9', pos='NUM', feats={}), MorphToken(text='9', pos='NUM', feats={}), MorphToken(text='7', pos='NUM', feats={}), MorphToken(text='8', pos='NUM', feats={}), MorphToken(text=',', pos='PUNCT', feats={}), MorphToken(text=' ', pos='PUNCT', feats={}), MorphToken(text='0', pos='NUM', feats={}), MorphToken(text='.', pos='PUNCT', feats={}), MorphToken(text='9', pos='NUM', feats={}), MorphToken(text='9', pos='NUM', feats={}), MorphToken(text='1', pos='NUM', feats={}), MorphToken(text='2', pos='NUM', feats={}), MorphToken(text=',', pos='PUNCT', feats={}), MorphToken(text=' ', pos='PUNCT', feats={}), MorphToken(text='0', pos='NUM', feats={}), MorphToken(text='.', pos='PUNCT', feats={}), MorphToken(text='9', pos='NUM', feats={}), MorphToken(text='9', pos='NUM', feats={}), MorphToken(text='6', pos='NUM', feats={}), MorphToken(text='9', pos='NUM', feats={}), MorphToken(text=']', pos='PUNCT', feats={}), MorphToken(text=']', pos='PUNCT', feats={})])\n"
     ]
    }
   ],
   "source": [
    "a = model([text])\n",
    "a_str = ' '.join(map(str,a))\n",
    "result = morph_tagger(a_str)\n",
    "print(result)"
   ]
  },
  {
   "cell_type": "code",
   "execution_count": null,
   "id": "f725c38c-c471-4d8e-bb73-913c7e4a2663",
   "metadata": {
    "tags": []
   },
   "outputs": [],
   "source": []
  },
  {
   "cell_type": "code",
   "execution_count": null,
   "id": "e02bedee-aac6-4f09-91bd-5cd3a6212a7c",
   "metadata": {},
   "outputs": [],
   "source": []
  }
 ],
 "metadata": {
  "kernelspec": {
   "display_name": "Python 3 (ipykernel)",
   "language": "python",
   "name": "python3"
  },
  "language_info": {
   "codemirror_mode": {
    "name": "ipython",
    "version": 3
   },
   "file_extension": ".py",
   "mimetype": "text/x-python",
   "name": "python",
   "nbconvert_exporter": "python",
   "pygments_lexer": "ipython3",
   "version": "3.10.13"
  }
 },
 "nbformat": 4,
 "nbformat_minor": 5
}
