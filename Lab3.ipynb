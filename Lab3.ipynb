{
 "cells": [
  {
   "cell_type": "code",
   "execution_count": 1,
   "id": "c2fdc74d-7565-4a1b-b401-2e735ea59d04",
   "metadata": {
    "tags": []
   },
   "outputs": [],
   "source": [
    "from deeppavlov import configs, build_model"
   ]
  },
  {
   "cell_type": "code",
   "execution_count": 2,
   "id": "c2a3bc91-ad12-40ab-a957-c3afa4318a48",
   "metadata": {},
   "outputs": [
    {
     "name": "stderr",
     "output_type": "stream",
     "text": [
      "2023-11-29 20:45:43.564 INFO in 'deeppavlov.download'['download'] at line 138: Skipped http://files.deeppavlov.ai/datasets/insults_data.tar.gz download because of matching hashes\n",
      "2023-11-29 20:45:45.704 INFO in 'deeppavlov.download'['download'] at line 138: Skipped http://files.deeppavlov.ai/deeppavlov_data/classifiers/insults_kaggle_torch_bert_v5.tar.gz download because of matching hashes\n",
      "C:\\Users\\Kirill\\anaconda3\\envs\\MISUPRO\\lib\\site-packages\\tqdm\\auto.py:22: TqdmWarning: IProgress not found. Please update jupyter and ipywidgets. See https://ipywidgets.readthedocs.io/en/stable/user_install.html\n",
      "  from .autonotebook import tqdm as notebook_tqdm\n",
      "Some weights of the model checkpoint at bert-base-uncased were not used when initializing BertForSequenceClassification: ['cls.predictions.transform.dense.weight', 'cls.predictions.transform.LayerNorm.weight', 'cls.predictions.bias', 'cls.predictions.transform.dense.bias', 'cls.predictions.transform.LayerNorm.bias', 'cls.seq_relationship.bias', 'cls.seq_relationship.weight']\n",
      "- This IS expected if you are initializing BertForSequenceClassification from the checkpoint of a model trained on another task or with another architecture (e.g. initializing a BertForSequenceClassification model from a BertForPreTraining model).\n",
      "- This IS NOT expected if you are initializing BertForSequenceClassification from the checkpoint of a model that you expect to be exactly identical (initializing a BertForSequenceClassification model from a BertForSequenceClassification model).\n",
      "Some weights of BertForSequenceClassification were not initialized from the model checkpoint at bert-base-uncased and are newly initialized: ['classifier.weight', 'classifier.bias']\n",
      "You should probably TRAIN this model on a down-stream task to be able to use it for predictions and inference.\n",
      "2023-11-29 20:45:49.495 WARNING in 'deeppavlov.core.models.torch_model'['torch_model'] at line 96: Unable to place component TorchTransformersClassifierModel on GPU, since no CUDA GPUs are available. Using CPU.\n"
     ]
    }
   ],
   "source": [
    "import pandas as pd\n",
    "model = build_model('insults_kaggle_bert', download=True)"
   ]
  },
  {
   "cell_type": "code",
   "execution_count": 3,
   "id": "223d9ba0-ee74-432b-a91c-b41d15a511a2",
   "metadata": {
    "tags": []
   },
   "outputs": [
    {
     "data": {
      "text/plain": [
       "['Insult', 'Not Insult']"
      ]
     },
     "execution_count": 3,
     "metadata": {},
     "output_type": "execute_result"
    }
   ],
   "source": [
    "model(['You are kind of stupid', 'You are a wonderful person!'])"
   ]
  },
  {
   "cell_type": "code",
   "execution_count": 4,
   "id": "3af643e4-91ee-4eae-9b27-1c051c28a3a5",
   "metadata": {
    "tags": []
   },
   "outputs": [],
   "source": [
    "data = pd.read_csv(r'C:\\Users\\Kirill\\anaconda3\\dataset\\toxic_comments.csv')\n",
    "text = data['text']"
   ]
  },
  {
   "cell_type": "code",
   "execution_count": 5,
   "id": "35c5988e-513c-42f0-b3ad-f650d73a12bb",
   "metadata": {
    "tags": []
   },
   "outputs": [
    {
     "name": "stdout",
     "output_type": "stream",
     "text": [
      "Номер твита:  1 , тональность текста : ['Not Insult']\n",
      "Explanation\n",
      "Why the edits made under my username Hardcore Metallica Fan were reverted? They weren't vandalisms, just closure on some GAs after I voted at New York Dolls FAC. And please don't remove the template from the talk page since I'm retired now.89.205.38.27\n",
      "                                                                                           \n",
      "Номер твита:  2 , тональность текста : ['Not Insult']\n",
      "D'aww! He matches this background colour I'm seemingly stuck with. Thanks.  (talk) 21:51, January 11, 2016 (UTC)\n",
      "                                                                                           \n",
      "Номер твита:  3 , тональность текста : ['Not Insult']\n",
      "Hey man, I'm really not trying to edit war. It's just that this guy is constantly removing relevant information and talking to me through edits instead of my talk page. He seems to care more about the formatting than the actual info.\n",
      "                                                                                           \n",
      "Номер твита:  4 , тональность текста : ['Not Insult']\n",
      "\"\n",
      "More\n",
      "I can't make any real suggestions on improvement - I wondered if the section statistics should be later on, or a subsection of \"\"types of accidents\"\"  -I think the references may need tidying so that they are all in the exact same format ie date format etc. I can do that later on, if no-one else does first - if you have any preferences for formatting style on references or want to do it yourself please let me know.\n",
      "\n",
      "There appears to be a backlog on articles for review so I guess there may be a delay until a reviewer turns up. It's listed in the relevant form eg Wikipedia:Good_article_nominations#Transport  \"\n",
      "                                                                                           \n",
      "Номер твита:  5 , тональность текста : ['Not Insult']\n",
      "You, sir, are my hero. Any chance you remember what page that's on?\n",
      "                                                                                           \n",
      "Номер твита:  6 , тональность текста : ['Not Insult']\n",
      "\"\n",
      "\n",
      "Congratulations from me as well, use the tools well.  · talk \"\n",
      "                                                                                           \n",
      "Номер твита:  7 , тональность текста : ['Insult']\n",
      "COCKSUCKER BEFORE YOU PISS AROUND ON MY WORK\n",
      "                                                                                           \n",
      "Номер твита:  8 , тональность текста : ['Not Insult']\n",
      "Your vandalism to the Matt Shirvington article has been reverted.  Please don't do it again, or you will be banned.\n",
      "                                                                                           \n",
      "Номер твита:  9 , тональность текста : ['Not Insult']\n",
      "Sorry if the word 'nonsense' was offensive to you. Anyway, I'm not intending to write anything in the article(wow they would jump on me for vandalism), I'm merely requesting that it be more encyclopedic so one can use it for school as a reference. I have been to the selective breeding page but it's almost a stub. It points to 'animal breeding' which is a short messy article that gives you no info. There must be someone around with expertise in eugenics? 93.161.107.169\n",
      "                                                                                           \n",
      "Номер твита:  10 , тональность текста : ['Not Insult']\n",
      "alignment on this subject and which are contrary to those of DuLithgow\n",
      "                                                                                           \n"
     ]
    }
   ],
   "source": [
    "for i in range(0,10,1):\n",
    "    print(\"Номер твита: \", i + 1, \", тональность текста :\", model([text[i]]))\n",
    "    print(text[i])\n",
    "    print(\"                                                                                           \")"
   ]
  },
  {
   "cell_type": "code",
   "execution_count": 7,
   "id": "90db2ed2-5f1a-4a04-9115-b2d9a885bcb0",
   "metadata": {
    "tags": []
   },
   "outputs": [],
   "source": [
    "testData = pd.read_csv(r'C:\\Users\\Kirill\\anaconda3\\dataset\\rusentitweet_test.csv')\n",
    "ttext = testData['text']"
   ]
  },
  {
   "cell_type": "code",
   "execution_count": 8,
   "id": "484c0666-36a5-472d-94e2-5e0d8f5caaa6",
   "metadata": {
    "tags": []
   },
   "outputs": [
    {
     "name": "stderr",
     "output_type": "stream",
     "text": [
      "2023-11-29 20:47:31.442 INFO in 'deeppavlov.download'['download'] at line 138: Skipped http://files.deeppavlov.ai/v1/classifiers/rusentiment_bert/rusentiment_bert_torch.tar.gz download because of matching hashes\n",
      "Some weights of the model checkpoint at bert-base-multilingual-cased were not used when initializing BertForSequenceClassification: ['cls.predictions.transform.dense.weight', 'cls.predictions.transform.LayerNorm.weight', 'cls.predictions.bias', 'cls.predictions.transform.dense.bias', 'cls.predictions.transform.LayerNorm.bias', 'cls.seq_relationship.bias', 'cls.seq_relationship.weight']\n",
      "- This IS expected if you are initializing BertForSequenceClassification from the checkpoint of a model trained on another task or with another architecture (e.g. initializing a BertForSequenceClassification model from a BertForPreTraining model).\n",
      "- This IS NOT expected if you are initializing BertForSequenceClassification from the checkpoint of a model that you expect to be exactly identical (initializing a BertForSequenceClassification model from a BertForSequenceClassification model).\n",
      "Some weights of BertForSequenceClassification were not initialized from the model checkpoint at bert-base-multilingual-cased and are newly initialized: ['classifier.weight', 'classifier.bias']\n",
      "You should probably TRAIN this model on a down-stream task to be able to use it for predictions and inference.\n",
      "2023-11-29 20:47:33.203 WARNING in 'deeppavlov.core.models.torch_model'['torch_model'] at line 96: Unable to place component TorchTransformersClassifierModel on GPU, since no CUDA GPUs are available. Using CPU.\n"
     ]
    }
   ],
   "source": [
    "ruModel = build_model(configs.classifiers.rusentiment_bert, download = True, install=True)"
   ]
  },
  {
   "cell_type": "code",
   "execution_count": 10,
   "id": "5320f5c9-be4f-43c5-8855-a394e71ccc7b",
   "metadata": {
    "tags": []
   },
   "outputs": [
    {
     "name": "stdout",
     "output_type": "stream",
     "text": [
      "Номер твита:  1 , тональность текста : ['negative']\n",
      "все мы помним мой ахуй https://t.co/3Kr7yzeYLC\n",
      "                                                                                           \n",
      "Номер твита:  2 , тональность текста : ['neutral']\n",
      "я считаю это мем года https://t.co/xoVKj5y8Mj\n",
      "                                                                                           \n",
      "Номер твита:  3 , тональность текста : ['negative']\n",
      "ян русский на сотку все запятые где надо🤙🏻👍🏻👍🏻👍🏻👍🏻\n",
      "я ещё сидел думал чо не так с этим твитом\n",
      "                                                                                           \n",
      "Номер твита:  4 , тональность текста : ['neutral']\n",
      "бэк дор соти https://t.co/bYCWz4h4Sk\n",
      "                                                                                           \n",
      "Номер твита:  5 , тональность текста : ['neutral']\n",
      "@daria_karapet * терияки бойз начинает играть*\n",
      "                                                                                           \n",
      "Номер твита:  6 , тональность текста : ['neutral']\n",
      "(пушка на Караульной горе больше не стреляет БА-БАХ!!) #красноярск\n",
      "                                                                                           \n",
      "Номер твита:  7 , тональность текста : ['speech']\n",
      "@Iori_loves_U Как мило /смутилась/ спасибо 🥰🌸\n",
      "                                                                                           \n",
      "Номер твита:  8 , тональность текста : ['neutral']\n",
      "@dinosaurgrgrgr ПО ДЖАКУРАМАМ ЭТО ПАБЛИК НАРОЧАН, А МОЁ ЭТО ПРОСТО ПО ДЖАКУРАЮ 👉👈\n",
      "                                                                                           \n",
      "Номер твита:  9 , тональность текста : ['neutral']\n",
      "@REDLIGHTLEVE ПО ОЩУЩЕНИЕМ ЧТО ПРОСТО МОЙ БРО\n",
      "                                                                                           \n",
      "Номер твита:  10 , тональность текста : ['negative']\n",
      "мне больно дышать..я как бабка 80 лет ужас🚬\n",
      "                                                                                           \n"
     ]
    }
   ],
   "source": [
    "for i in range(0,10,1):\n",
    "    print(\"Номер твита: \", i + 1, \", тональность текста :\", ruModel([ttext[i]]))\n",
    "    print(ttext[i])\n",
    "    print(\"                                                                                           \")"
   ]
  },
  {
   "cell_type": "code",
   "execution_count": null,
   "id": "dc918e3b-8a1d-45ae-bbda-91ef33dde98e",
   "metadata": {},
   "outputs": [],
   "source": []
  }
 ],
 "metadata": {
  "kernelspec": {
   "display_name": "Python 3 (ipykernel)",
   "language": "python",
   "name": "python3"
  },
  "language_info": {
   "codemirror_mode": {
    "name": "ipython",
    "version": 3
   },
   "file_extension": ".py",
   "mimetype": "text/x-python",
   "name": "python",
   "nbconvert_exporter": "python",
   "pygments_lexer": "ipython3",
   "version": "3.10.13"
  }
 },
 "nbformat": 4,
 "nbformat_minor": 5
}
